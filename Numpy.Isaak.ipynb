{
 "cells": [
  {
   "cell_type": "markdown",
   "id": "4a773e55",
   "metadata": {},
   "source": [
    "# INTRODUCTION TO NUMPY FUNCTIONS [MATHEMATICS]"
   ]
  },
  {
   "attachments": {},
   "cell_type": "markdown",
   "id": "ac4e4da5",
   "metadata": {},
   "source": [
    "![Mathematics Programming](https://www.kindpng.com/picc/m/273-2736876_maths-logo-hd-png-download.png)"
   ]
  },
  {
   "cell_type": "code",
   "execution_count": 1,
   "id": "94cb3e81",
   "metadata": {},
   "outputs": [
    {
     "data": {
      "text/plain": [
       "10"
      ]
     },
     "execution_count": 1,
     "metadata": {},
     "output_type": "execute_result"
    }
   ],
   "source": [
    "#addition and subtraction\n",
    "5+5"
   ]
  },
  {
   "cell_type": "code",
   "execution_count": 6,
   "id": "0ee2f60b",
   "metadata": {},
   "outputs": [
    {
     "name": "stdout",
     "output_type": "stream",
     "text": [
      "[0, 1, 2, 3, 4, 5, 6, 7, 8, 9]\n",
      "array size 1000000\n",
      "[0 1 2 3 4 5 6 7 8 9]\n"
     ]
    }
   ],
   "source": [
    "my_list = [i for i in range(1000000)]\n",
    "list_size = len(my_list)\n",
    "print(my_list[:10])\n",
    "import numpy as np\n",
    "arr = np.array(my_list)\n",
    "print(\"array size\", len(arr))\n",
    "print(arr[:10])"
   ]
  },
  {
   "cell_type": "code",
   "execution_count": 11,
   "id": "a277528f",
   "metadata": {},
   "outputs": [
    {
     "name": "stdout",
     "output_type": "stream",
     "text": [
      "<class 'numpy.ndarray'>\n",
      "[1 2 3 4 5]\n"
     ]
    }
   ],
   "source": [
    "import numpy as np\n",
    "list = [1,2,3,4,5]\n",
    "a = np.array(list)\n",
    "print(type(a))\n",
    "print(a)"
   ]
  },
  {
   "cell_type": "code",
   "execution_count": 2,
   "id": "45f5539a",
   "metadata": {},
   "outputs": [],
   "source": [
    "import numpy as np"
   ]
  },
  {
   "cell_type": "code",
   "execution_count": 21,
   "id": "ce50c808",
   "metadata": {},
   "outputs": [
    {
     "name": "stdout",
     "output_type": "stream",
     "text": [
      "[1 2 3 4 5]\n"
     ]
    }
   ],
   "source": [
    "b = (np.arange(1,6))\n",
    "print(b)"
   ]
  },
  {
   "cell_type": "code",
   "execution_count": 22,
   "id": "acaafcfc",
   "metadata": {},
   "outputs": [
    {
     "name": "stdout",
     "output_type": "stream",
     "text": [
      "[ 2  4  6  8 10]\n"
     ]
    }
   ],
   "source": [
    "print(a+b)"
   ]
  },
  {
   "cell_type": "code",
   "execution_count": 23,
   "id": "b65cd041",
   "metadata": {},
   "outputs": [
    {
     "name": "stdout",
     "output_type": "stream",
     "text": [
      "[1, 2, 3, 4, 5, 1, 2, 3, 4, 5]\n"
     ]
    }
   ],
   "source": [
    "lst = [1,2,3,4,5]\n",
    "list = [1,2,3,4,5]\n",
    "print(lst+list)"
   ]
  },
  {
   "cell_type": "code",
   "execution_count": 33,
   "id": "ddda8c7a",
   "metadata": {},
   "outputs": [
    {
     "name": "stdout",
     "output_type": "stream",
     "text": [
      "[[0. 0.]\n",
      " [0. 0.]]\n"
     ]
    }
   ],
   "source": [
    "print(np.zeros((2,2)))"
   ]
  },
  {
   "cell_type": "code",
   "execution_count": 37,
   "id": "75215374",
   "metadata": {},
   "outputs": [
    {
     "name": "stdout",
     "output_type": "stream",
     "text": [
      "[[1. 0. 0.]\n",
      " [0. 1. 0.]\n",
      " [0. 0. 1.]]\n"
     ]
    }
   ],
   "source": [
    "print(np.eye(3))"
   ]
  },
  {
   "cell_type": "code",
   "execution_count": 38,
   "id": "6a17c3b7",
   "metadata": {},
   "outputs": [
    {
     "name": "stdout",
     "output_type": "stream",
     "text": [
      "[[8 8]\n",
      " [8 8]]\n"
     ]
    }
   ],
   "source": [
    "print(np.full((2,2),8))"
   ]
  },
  {
   "cell_type": "code",
   "execution_count": 146,
   "id": "adf0ca7d",
   "metadata": {},
   "outputs": [
    {
     "name": "stdout",
     "output_type": "stream",
     "text": [
      "[[0. 0.]\n",
      " [0. 0.]]\n"
     ]
    }
   ],
   "source": [
    "print(np.empty((2,2)))"
   ]
  },
  {
   "cell_type": "code",
   "execution_count": 47,
   "id": "1c600450",
   "metadata": {},
   "outputs": [
    {
     "name": "stdout",
     "output_type": "stream",
     "text": [
      "[[1 2 3]\n",
      " [5 6 7]]\n"
     ]
    }
   ],
   "source": [
    "a = np.array ([[1,2,3],\n",
    "                  [5,6,7]])\n",
    "print (a)"
   ]
  },
  {
   "cell_type": "code",
   "execution_count": 10,
   "id": "d3ef5cf5",
   "metadata": {},
   "outputs": [
    {
     "data": {
      "text/plain": [
       "array([[ 3,  3,  2,  1,  6],\n",
       "       [54, 56, 32, 87,  9]])"
      ]
     },
     "execution_count": 10,
     "metadata": {},
     "output_type": "execute_result"
    }
   ],
   "source": [
    "a = np.array([[3,3,2,1,6],[54,56,32,87,9]])\n",
    "a"
   ]
  },
  {
   "cell_type": "code",
   "execution_count": 16,
   "id": "fcff751a",
   "metadata": {},
   "outputs": [
    {
     "data": {
      "text/plain": [
       "1"
      ]
     },
     "execution_count": 16,
     "metadata": {},
     "output_type": "execute_result"
    }
   ],
   "source": [
    "a[0,-2]"
   ]
  },
  {
   "cell_type": "code",
   "execution_count": 18,
   "id": "f9dc37b5",
   "metadata": {},
   "outputs": [
    {
     "data": {
      "text/plain": [
       "array([3, 3, 2, 1, 6])"
      ]
     },
     "execution_count": 18,
     "metadata": {},
     "output_type": "execute_result"
    }
   ],
   "source": [
    "a[0, :]"
   ]
  },
  {
   "cell_type": "code",
   "execution_count": 19,
   "id": "ba4b61af",
   "metadata": {},
   "outputs": [
    {
     "data": {
      "text/plain": [
       "array([[ 3,  3,  2,  1,  6],\n",
       "       [54, 56, 32, 67,  9]])"
      ]
     },
     "execution_count": 19,
     "metadata": {},
     "output_type": "execute_result"
    }
   ],
   "source": [
    "a[1,3] = 67\n",
    "a"
   ]
  },
  {
   "cell_type": "code",
   "execution_count": 20,
   "id": "ae4e540e",
   "metadata": {},
   "outputs": [
    {
     "data": {
      "text/plain": [
       "array([[ 3,  3,  2,  1,  6],\n",
       "       [54, 56, 32, 67,  9]])"
      ]
     },
     "execution_count": 20,
     "metadata": {},
     "output_type": "execute_result"
    }
   ],
   "source": [
    "a"
   ]
  },
  {
   "cell_type": "code",
   "execution_count": 21,
   "id": "611d089b",
   "metadata": {},
   "outputs": [
    {
     "data": {
      "text/plain": [
       "67"
      ]
     },
     "execution_count": 21,
     "metadata": {},
     "output_type": "execute_result"
    }
   ],
   "source": [
    "a[1,3]"
   ]
  },
  {
   "cell_type": "code",
   "execution_count": 22,
   "id": "ce1d4ed3",
   "metadata": {
    "scrolled": true
   },
   "outputs": [
    {
     "data": {
      "text/plain": [
       "array([[ 3,  3,  2,  1,  0],\n",
       "       [54, 56, 32, 67,  0]])"
      ]
     },
     "execution_count": 22,
     "metadata": {},
     "output_type": "execute_result"
    }
   ],
   "source": [
    "a[:,4]=0\n",
    "a"
   ]
  },
  {
   "cell_type": "code",
   "execution_count": 30,
   "id": "512f6ac4",
   "metadata": {},
   "outputs": [
    {
     "data": {
      "text/plain": [
       "array([[[3, 4, 2, 6],\n",
       "        [4, 5, 2, 7]],\n",
       "\n",
       "       [[6, 7, 3, 4],\n",
       "        [5, 6, 4, 3]]])"
      ]
     },
     "execution_count": 30,
     "metadata": {},
     "output_type": "execute_result"
    }
   ],
   "source": [
    "b = np.array([[[3,4,2,6],[4,5,2,7]],[[6,7,3,4],[5,6,4,3]]])\n",
    "b"
   ]
  },
  {
   "cell_type": "code",
   "execution_count": 31,
   "id": "8609352b",
   "metadata": {},
   "outputs": [
    {
     "data": {
      "text/plain": [
       "7"
      ]
     },
     "execution_count": 31,
     "metadata": {},
     "output_type": "execute_result"
    }
   ],
   "source": [
    "b[0,1,3]"
   ]
  },
  {
   "cell_type": "markdown",
   "id": "808d8b63",
   "metadata": {},
   "source": [
    "# Initializing different types of arrays\n"
   ]
  },
  {
   "cell_type": "code",
   "execution_count": 48,
   "id": "9a99b5c9",
   "metadata": {},
   "outputs": [
    {
     "data": {
      "text/plain": [
       "array([[[[0., 0., 0., 0., 0.],\n",
       "         [0., 0., 0., 0., 0.],\n",
       "         [0., 0., 0., 0., 0.],\n",
       "         [0., 0., 0., 0., 0.]],\n",
       "\n",
       "        [[0., 0., 0., 0., 0.],\n",
       "         [0., 0., 0., 0., 0.],\n",
       "         [0., 0., 0., 0., 0.],\n",
       "         [0., 0., 0., 0., 0.]]],\n",
       "\n",
       "\n",
       "       [[[0., 0., 0., 0., 0.],\n",
       "         [0., 0., 0., 0., 0.],\n",
       "         [0., 0., 0., 0., 0.],\n",
       "         [0., 0., 0., 0., 0.]],\n",
       "\n",
       "        [[0., 0., 0., 0., 0.],\n",
       "         [0., 0., 0., 0., 0.],\n",
       "         [0., 0., 0., 0., 0.],\n",
       "         [0., 0., 0., 0., 0.]]]])"
      ]
     },
     "execution_count": 48,
     "metadata": {},
     "output_type": "execute_result"
    }
   ],
   "source": [
    "c=np.zeros((2,2,4,5))\n",
    "c"
   ]
  },
  {
   "cell_type": "code",
   "execution_count": 62,
   "id": "d6d50fe8",
   "metadata": {},
   "outputs": [
    {
     "data": {
      "text/plain": [
       "array([[[1, 1, 1],\n",
       "        [1, 1, 1],\n",
       "        [1, 1, 1],\n",
       "        [1, 1, 1]],\n",
       "\n",
       "       [[1, 1, 1],\n",
       "        [1, 1, 1],\n",
       "        [1, 1, 1],\n",
       "        [1, 1, 1]]])"
      ]
     },
     "execution_count": 62,
     "metadata": {},
     "output_type": "execute_result"
    }
   ],
   "source": [
    "d=np.ones((2,4,3), dtype = 'int32')\n",
    "d"
   ]
  },
  {
   "cell_type": "code",
   "execution_count": 95,
   "id": "c5b54f15",
   "metadata": {},
   "outputs": [
    {
     "data": {
      "text/plain": [
       "array([[100, 100, 100, 100, 100, 100, 100, 100, 100, 100],\n",
       "       [100, 100, 100, 100, 100, 100, 100, 100, 100, 100],\n",
       "       [100, 100, 100, 100, 100, 100, 100, 100, 100, 100],\n",
       "       [100, 100, 100, 100, 100, 100, 100, 100, 100, 100],\n",
       "       [100, 100, 100, 100, 100, 100, 100, 100, 100, 100],\n",
       "       [100, 100, 100, 100, 100, 100, 100, 100, 100, 100],\n",
       "       [100, 100, 100, 100, 100, 100, 100, 100, 100, 100],\n",
       "       [100, 100, 100, 100, 100, 100, 100, 100, 100, 100],\n",
       "       [100, 100, 100, 100, 100, 100, 100, 100, 100, 100],\n",
       "       [100, 100, 100, 100, 100, 100, 100, 100, 100, 100]])"
      ]
     },
     "execution_count": 95,
     "metadata": {},
     "output_type": "execute_result"
    }
   ],
   "source": [
    " e = np.full((10,10),100)\n",
    "e"
   ]
  },
  {
   "cell_type": "markdown",
   "id": "553045b7",
   "metadata": {},
   "source": [
    "# RANDOM INTEGER VALUES"
   ]
  },
  {
   "cell_type": "code",
   "execution_count": 94,
   "id": "d572e00c",
   "metadata": {},
   "outputs": [
    {
     "data": {
      "text/plain": [
       "array([[ 136,  -98,  -46,   17, -128, -127,  128,  -53,  102,   -2],\n",
       "       [  29,  -76, -197,  -47,  -51,   74,  199,  108,   69,  -68],\n",
       "       [  76, -138, -137,   64, -146,   15,   90,  126,  144, -175],\n",
       "       [ -51,   27, -174,  -96,  127,  142,  -17,  149,   26,  155],\n",
       "       [  70,  -77,  -28, -189, -178,    0,   30,  126,   63,  -91],\n",
       "       [  68,  152, -119,  114,   45,   41,  -11,   96, -182,  -94],\n",
       "       [ -96,   -7,  134,  -61,  168, -137,  -22,  147,   75,   37],\n",
       "       [ 161,  -21,  175,   30, -119,   39, -196,   11,   85, -160],\n",
       "       [ -64,    4,   54,  -40,  102,   12,   88,  117,  -19, -110],\n",
       "       [  25,   65,  112,  -72,   86,  154,   96,   -5,  -39,  168],\n",
       "       [  91,  136,  -50,  179,  -91, -114, -171, -192,  180, -139],\n",
       "       [  16,   21, -114,  -87,  -32,   63,   -2,   70, -142,  -63],\n",
       "       [-157,   14,   69,   48,   79,  -69,   13, -101,   14,  118],\n",
       "       [  -4,  116,  144,  -30, -103,  172,   26,  148,   35,  108],\n",
       "       [ -47,  155,   13,  138,   88,  197,  -81, -195,  121,   79],\n",
       "       [  36,   44, -137,  -97,  -56, -199, -147,   74,  -73,  -36],\n",
       "       [  54,   12,  -31,  108,   60,   31, -156,   46,  174,  155],\n",
       "       [  44,  199, -197,  -29,  -43,  -22,  147,  165,    5, -107],\n",
       "       [  86,  -50,  -85,  103,  -97, -164,  -57, -131,  -24, -106],\n",
       "       [  72,   11,   10,  186,  -14,  -69, -113, -152,  -37,   38]])"
      ]
     },
     "execution_count": 94,
     "metadata": {},
     "output_type": "execute_result"
    }
   ],
   "source": [
    "x= np.random.randint(-200,200,size=(20,10))\n",
    "x"
   ]
  },
  {
   "cell_type": "markdown",
   "id": "c9c16b1a",
   "metadata": {},
   "source": [
    "# IDENTITY MATRIX"
   ]
  },
  {
   "cell_type": "code",
   "execution_count": 97,
   "id": "7a6d1c6b",
   "metadata": {
    "collapsed": true
   },
   "outputs": [
    {
     "data": {
      "text/plain": [
       "array([[1., 0., 0., 0., 0., 0.],\n",
       "       [0., 1., 0., 0., 0., 0.],\n",
       "       [0., 0., 1., 0., 0., 0.],\n",
       "       [0., 0., 0., 1., 0., 0.],\n",
       "       [0., 0., 0., 0., 1., 0.],\n",
       "       [0., 0., 0., 0., 0., 1.]])"
      ]
     },
     "execution_count": 97,
     "metadata": {},
     "output_type": "execute_result"
    }
   ],
   "source": [
    "i=np.identity(6)\n",
    "i"
   ]
  },
  {
   "cell_type": "markdown",
   "id": "41a418b3",
   "metadata": {},
   "source": [
    "# MATRIX MODELS"
   ]
  },
  {
   "cell_type": "code",
   "execution_count": 144,
   "id": "a07edf0d",
   "metadata": {},
   "outputs": [
    {
     "data": {
      "text/plain": [
       "array([[99, 99, 99, 99, 99, 99, 99, 99, 99, 99, 99],\n",
       "       [99, 99, 99, 99, 99, 99, 99, 99, 99, 99, 99],\n",
       "       [99, 99, 99, 99, 99, 99, 99, 99, 99, 99, 99],\n",
       "       [99, 99, 99,  0,  0,  0, 99, 99, 99, 99, 99],\n",
       "       [99, 99, 99,  0,  0,  0, 99, 99, 99, 99, 99],\n",
       "       [99, 99, 99,  0,  0,  0, 99, 99, 99, 99, 99],\n",
       "       [99, 99, 99, 99, 99, 99, 99, 99, 99, 99, 99],\n",
       "       [99, 99, 99, 99, 99, 99, 99, 99, 99, 99, 99],\n",
       "       [99, 99, 99, 99, 99, 99, 99, 99, 99, 99, 99],\n",
       "       [99, 99, 99, 99, 99, 99, 99, 99, 99, 99, 99],\n",
       "       [99, 99, 99, 99, 99, 99, 99, 99, 99, 99, 99]])"
      ]
     },
     "execution_count": 144,
     "metadata": {},
     "output_type": "execute_result"
    }
   ],
   "source": [
    "fx = np.full((11,11),99)\n",
    "fx\n",
    "z = np.zeros((3,3))\n",
    "z[1,1] =0\n",
    "fx[3:6,3:6]=z\n",
    "fx"
   ]
  },
  {
   "cell_type": "markdown",
   "id": "9d163e71",
   "metadata": {},
   "source": [
    "# NB WHEN REPLACING FUNCTIONS"
   ]
  },
  {
   "cell_type": "code",
   "execution_count": 152,
   "id": "e59864de",
   "metadata": {},
   "outputs": [
    {
     "data": {
      "text/plain": [
       "array([1000,    2,    3,    4,    5])"
      ]
     },
     "execution_count": 152,
     "metadata": {},
     "output_type": "execute_result"
    }
   ],
   "source": [
    "r = np.array([1,2,3,4,5])\n",
    "c=r.copy()\n",
    "c[0]=1000\n",
    "c\n"
   ]
  },
  {
   "cell_type": "markdown",
   "id": "9aee09e9",
   "metadata": {},
   "source": [
    "# MATHEMATICS"
   ]
  },
  {
   "cell_type": "code",
   "execution_count": 165,
   "id": "d2978e9d",
   "metadata": {},
   "outputs": [
    {
     "data": {
      "text/plain": [
       "array([[10, 20, 30],\n",
       "       [40, 50, 60]])"
      ]
     },
     "execution_count": 165,
     "metadata": {},
     "output_type": "execute_result"
    }
   ],
   "source": [
    "aa=np.array([[10,20,30,],[40,50,60]])\n",
    "aa"
   ]
  },
  {
   "cell_type": "code",
   "execution_count": 173,
   "id": "ce128c46",
   "metadata": {},
   "outputs": [
    {
     "data": {
      "text/plain": [
       "array([[12, 22, 32],\n",
       "       [42, 52, 62]])"
      ]
     },
     "execution_count": 173,
     "metadata": {},
     "output_type": "execute_result"
    }
   ],
   "source": [
    "aa+2\n"
   ]
  },
  {
   "cell_type": "code",
   "execution_count": 174,
   "id": "644ed34e",
   "metadata": {},
   "outputs": [
    {
     "data": {
      "text/plain": [
       "array([[ 100,  400,  900],\n",
       "       [1600, 2500, 3600]], dtype=int32)"
      ]
     },
     "execution_count": 174,
     "metadata": {},
     "output_type": "execute_result"
    }
   ],
   "source": [
    "aa**2"
   ]
  },
  {
   "cell_type": "code",
   "execution_count": 175,
   "id": "ad20a000",
   "metadata": {},
   "outputs": [
    {
     "data": {
      "text/plain": [
       "array([[1, 3, 7],\n",
       "       [2, 4, 9]])"
      ]
     },
     "execution_count": 175,
     "metadata": {},
     "output_type": "execute_result"
    }
   ],
   "source": [
    "ab=np.array([[1,3,7],[2,4,9]])\n",
    "ab"
   ]
  },
  {
   "cell_type": "code",
   "execution_count": 176,
   "id": "4c9573c7",
   "metadata": {},
   "outputs": [
    {
     "data": {
      "text/plain": [
       "array([[11, 23, 37],\n",
       "       [42, 54, 69]])"
      ]
     },
     "execution_count": 176,
     "metadata": {},
     "output_type": "execute_result"
    }
   ],
   "source": [
    "aa+ab"
   ]
  },
  {
   "cell_type": "code",
   "execution_count": 178,
   "id": "3825bbd3",
   "metadata": {},
   "outputs": [
    {
     "data": {
      "text/plain": [
       "array([[-0.54402111,  0.91294525, -0.98803162],\n",
       "       [ 0.74511316, -0.26237485, -0.30481062]])"
      ]
     },
     "execution_count": 178,
     "metadata": {},
     "output_type": "execute_result"
    }
   ],
   "source": [
    "np.sin(aa)"
   ]
  },
  {
   "cell_type": "code",
   "execution_count": 185,
   "id": "3a55db1e",
   "metadata": {},
   "outputs": [
    {
     "data": {
      "text/plain": [
       "10"
      ]
     },
     "execution_count": 185,
     "metadata": {},
     "output_type": "execute_result"
    }
   ],
   "source": [
    "np.gcd(20,30)"
   ]
  },
  {
   "cell_type": "code",
   "execution_count": 188,
   "id": "8e92daf9",
   "metadata": {},
   "outputs": [
    {
     "data": {
      "text/plain": [
       "3.0"
      ]
     },
     "execution_count": 188,
     "metadata": {},
     "output_type": "execute_result"
    }
   ],
   "source": [
    "np.cbrt(27)"
   ]
  },
  {
   "cell_type": "markdown",
   "id": "72eb5bba",
   "metadata": {},
   "source": [
    "### FOR MORE MATH FUNCTIONS VISIT: https://numpy.org/doc/stable/reference/routines.math.html "
   ]
  },
  {
   "cell_type": "markdown",
   "id": "55aa77b8",
   "metadata": {},
   "source": [
    "\n",
    "# LINEAR ALGEBRA\n"
   ]
  },
  {
   "cell_type": "code",
   "execution_count": 206,
   "id": "60b7036d",
   "metadata": {},
   "outputs": [
    {
     "data": {
      "text/plain": [
       "array([[512, 512, 512],\n",
       "       [512, 512, 512],\n",
       "       [512, 512, 512],\n",
       "       [512, 512, 512],\n",
       "       [512, 512, 512]])"
      ]
     },
     "execution_count": 206,
     "metadata": {},
     "output_type": "execute_result"
    }
   ],
   "source": [
    "ad = np.full((5,4),16)\n",
    "ae = np.full((4,3),8)\n",
    "np.matmul(ad,ae)\n"
   ]
  },
  {
   "cell_type": "code",
   "execution_count": 212,
   "id": "50e965c6",
   "metadata": {},
   "outputs": [
    {
     "data": {
      "text/plain": [
       "array([[[3, 4, 2, 6],\n",
       "        [4, 5, 2, 7],\n",
       "        [6, 7, 3, 4],\n",
       "        [5, 6, 4, 3]]])"
      ]
     },
     "execution_count": 212,
     "metadata": {},
     "output_type": "execute_result"
    }
   ],
   "source": [
    "b = np.array([[[3,4,2,6],[4,5,2,7],[6,7,3,4],[5,6,4,3]]])\n",
    "b"
   ]
  },
  {
   "cell_type": "code",
   "execution_count": 207,
   "id": "dae4f22d",
   "metadata": {},
   "outputs": [
    {
     "data": {
      "text/plain": [
       "array([[[288, 352, 176, 320],\n",
       "        [288, 352, 176, 320],\n",
       "        [288, 352, 176, 320],\n",
       "        [288, 352, 176, 320],\n",
       "        [288, 352, 176, 320]]])"
      ]
     },
     "execution_count": 207,
     "metadata": {},
     "output_type": "execute_result"
    }
   ],
   "source": [
    "# matrix multiplications\n",
    "ah = np.matmul(ad,b)"
   ]
  },
  {
   "cell_type": "code",
   "execution_count": 215,
   "id": "e1c4049d",
   "metadata": {},
   "outputs": [
    {
     "data": {
      "text/plain": [
       "array([-5.])"
      ]
     },
     "execution_count": 215,
     "metadata": {},
     "output_type": "execute_result"
    }
   ],
   "source": [
    "# finding determinants\n",
    "b = np.array([[[3,4,2,6],[4,5,2,7],[6,7,3,4],[5,6,4,3]]])\n",
    "np.linalg.det(b)"
   ]
  },
  {
   "cell_type": "code",
   "execution_count": 218,
   "id": "41a50ce7",
   "metadata": {},
   "outputs": [
    {
     "data": {
      "text/plain": [
       "array([[17.56805391+0.j        , -0.06381114+0.j        ,\n",
       "        -1.75212138+1.17907773j, -1.75212138-1.17907773j]])"
      ]
     },
     "execution_count": 218,
     "metadata": {},
     "output_type": "execute_result"
    }
   ],
   "source": [
    "# finding eigenvalues\n",
    "np.linalg.eigvals(b)"
   ]
  },
  {
   "cell_type": "markdown",
   "id": "617f1202",
   "metadata": {},
   "source": [
    "### for more algebra functions: https://numpy.org/doc/stable/reference/routines.linalg.html"
   ]
  },
  {
   "cell_type": "markdown",
   "id": "acfd738c",
   "metadata": {},
   "source": [
    "\n",
    "#  STATISTICS\n",
    "\n",
    "\n"
   ]
  },
  {
   "cell_type": "code",
   "execution_count": 219,
   "id": "495e6e5e",
   "metadata": {},
   "outputs": [
    {
     "data": {
      "text/plain": [
       "array([[[3, 4, 2, 6],\n",
       "        [4, 5, 2, 7],\n",
       "        [6, 7, 3, 4],\n",
       "        [5, 6, 4, 3]]])"
      ]
     },
     "execution_count": 219,
     "metadata": {},
     "output_type": "execute_result"
    }
   ],
   "source": [
    "b = np.array([[[3,4,2,6],[4,5,2,7],[6,7,3,4],[5,6,4,3]]])\n",
    "b"
   ]
  },
  {
   "cell_type": "code",
   "execution_count": 220,
   "id": "9afa2cb2",
   "metadata": {},
   "outputs": [
    {
     "data": {
      "text/plain": [
       "2"
      ]
     },
     "execution_count": 220,
     "metadata": {},
     "output_type": "execute_result"
    }
   ],
   "source": [
    "np.min(b)"
   ]
  },
  {
   "cell_type": "code",
   "execution_count": 223,
   "id": "f397a1ea",
   "metadata": {},
   "outputs": [
    {
     "data": {
      "text/plain": [
       "7"
      ]
     },
     "execution_count": 223,
     "metadata": {},
     "output_type": "execute_result"
    }
   ],
   "source": [
    "np.max(b)"
   ]
  },
  {
   "cell_type": "code",
   "execution_count": 224,
   "id": "6265f0c7",
   "metadata": {},
   "outputs": [
    {
     "data": {
      "text/plain": [
       "array([[2, 2, 3, 3]])"
      ]
     },
     "execution_count": 224,
     "metadata": {},
     "output_type": "execute_result"
    }
   ],
   "source": [
    "np.min(b,axis =2)"
   ]
  },
  {
   "cell_type": "code",
   "execution_count": 225,
   "id": "9913c842",
   "metadata": {},
   "outputs": [
    {
     "data": {
      "text/plain": [
       "71"
      ]
     },
     "execution_count": 225,
     "metadata": {},
     "output_type": "execute_result"
    }
   ],
   "source": [
    "np.sum(b)"
   ]
  },
  {
   "cell_type": "code",
   "execution_count": 226,
   "id": "4f985ad9",
   "metadata": {},
   "outputs": [
    {
     "data": {
      "text/plain": [
       "(1, 4, 4)"
      ]
     },
     "execution_count": 226,
     "metadata": {},
     "output_type": "execute_result"
    }
   ],
   "source": [
    "b.shape"
   ]
  },
  {
   "cell_type": "markdown",
   "id": "24c22f6e",
   "metadata": {},
   "source": [
    "# importing data from a file"
   ]
  },
  {
   "cell_type": "markdown",
   "id": "402b22d0",
   "metadata": {},
   "source": [
    "import os\n",
    "os.getcwd()"
   ]
  },
  {
   "cell_type": "code",
   "execution_count": 234,
   "id": "1525300f",
   "metadata": {},
   "outputs": [],
   "source": [
    "os.chdir('C:\\\\Users\\\\Isaac\\\\Desktop')"
   ]
  },
  {
   "cell_type": "code",
   "execution_count": 252,
   "id": "c99b8469",
   "metadata": {},
   "outputs": [
    {
     "data": {
      "text/plain": [
       "array([  43,   34,    5,    3,  434,    5,    5,    5,  454,   66, 8635,\n",
       "         44,    5,    6,    5,    7,    8,  898,   76,    5,    5,    4,\n",
       "          4,    4,    5,   56,    7,    8,   78,    9,    8,   68,   68,\n",
       "         68,    8,    8,   68,   68,   68,    7,   56,   56,    7,  878,\n",
       "         79, 2435,    4,   56,    7,   68,  788,  224,    5,   46,    7,\n",
       "         64,   46,   56,   96,   45,   35,   26,    5,   76,   86])"
      ]
     },
     "execution_count": 252,
     "metadata": {},
     "output_type": "execute_result"
    }
   ],
   "source": [
    "v = np.genfromtxt('data.txt',delimiter = ',')\n",
    "q = v.astype('int32')\n",
    "q"
   ]
  },
  {
   "cell_type": "markdown",
   "id": "f639b0eb",
   "metadata": {},
   "source": [
    "#### boolean analysis"
   ]
  },
  {
   "cell_type": "code",
   "execution_count": 263,
   "id": "00e16b30",
   "metadata": {},
   "outputs": [
    {
     "data": {
      "text/plain": [
       "array([ 434,  454,   66, 8635,  898,   76,   56,   78,   68,   68,   68,\n",
       "         68,   68,   68,   56,   56,  878,   79, 2435,   56,   68,  788,\n",
       "        224,   64,   56,   96,   76,   86])"
      ]
     },
     "execution_count": 263,
     "metadata": {},
     "output_type": "execute_result"
    }
   ],
   "source": [
    "q[q>50]"
   ]
  },
  {
   "cell_type": "code",
   "execution_count": 264,
   "id": "5aff6c2d",
   "metadata": {},
   "outputs": [
    {
     "data": {
      "text/plain": [
       "array([False, False, False, False,  True, False, False, False,  True,\n",
       "        True,  True, False, False, False, False, False, False,  True,\n",
       "        True, False, False, False, False, False, False,  True, False,\n",
       "       False,  True, False, False,  True,  True,  True, False, False,\n",
       "        True,  True,  True, False,  True,  True, False,  True,  True,\n",
       "        True, False,  True, False,  True,  True,  True, False, False,\n",
       "       False,  True, False,  True,  True, False, False, False, False,\n",
       "        True,  True])"
      ]
     },
     "execution_count": 264,
     "metadata": {},
     "output_type": "execute_result"
    }
   ],
   "source": [
    "q>50"
   ]
  },
  {
   "cell_type": "code",
   "execution_count": 273,
   "id": "0d6eb13b",
   "metadata": {},
   "outputs": [
    {
     "data": {
      "text/plain": [
       "True"
      ]
     },
     "execution_count": 273,
     "metadata": {},
     "output_type": "execute_result"
    }
   ],
   "source": [
    "np.any(q > 1000, axis =0)"
   ]
  },
  {
   "cell_type": "code",
   "execution_count": null,
   "id": "1cee2121",
   "metadata": {},
   "outputs": [],
   "source": []
  }
 ],
 "metadata": {
  "kernelspec": {
   "display_name": "Python 3 (ipykernel)",
   "language": "python",
   "name": "python3"
  },
  "language_info": {
   "codemirror_mode": {
    "name": "ipython",
    "version": 3
   },
   "file_extension": ".py",
   "mimetype": "text/x-python",
   "name": "python",
   "nbconvert_exporter": "python",
   "pygments_lexer": "ipython3",
   "version": "3.9.7"
  }
 },
 "nbformat": 4,
 "nbformat_minor": 5
}
